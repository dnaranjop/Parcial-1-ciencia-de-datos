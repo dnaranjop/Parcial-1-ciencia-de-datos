{
 "cells": [
  {
   "cell_type": "markdown",
   "metadata": {},
   "source": [
    "# Regresión Lineal con Gradiente Descendente en el Boston Housing Dataset\n",
    "\n",
    "**Nombre**: Edison Forero, Damian naranjo \n",
    "**Materia**: Ciencia de Datos  \n",
    "**Salón**: TS7A\n",
    "\n",
    "En este informe, se implementa una regresión lineal simple utilizando el **algoritmo de gradiente descendente**. El dataset utilizado es el **Boston Housing**, y la variable independiente seleccionada es el número de habitaciones por vivienda (`RM`), mientras que el objetivo es predecir el valor medio de las viviendas (`MEDV`).\n"
   ]
  },
  {
   "cell_type": "code",
   "execution_count": 3,
   "metadata": {},
   "outputs": [
    {
     "name": "stdout",
     "output_type": "stream",
     "text": [
      "Matriz de distancias (dataset simulado):\n",
      "[[ 0.  87.  55.  73.  58.5 48.  54.  59.  41.5 49.5]\n",
      " [87.   0.  48.  69.5 47.   7.5 45.  49.  36.  55.5]\n",
      " [55.  48.   0.  16.  60.5 29.5 65.5 78.5 51.5 76. ]\n",
      " [73.  69.5 16.   0.  36.5 66.5 14.5 67.5 24.  39.5]\n",
      " [58.5 47.  60.5 36.5  0.  47.  67.  17.5 94.  35.5]\n",
      " [48.   7.5 29.5 66.5 47.   0.  31.5 75.5 40.  43. ]\n",
      " [54.  45.  65.5 14.5 67.  31.5  0.  87.  30.  52. ]\n",
      " [59.  49.  78.5 67.5 17.5 75.5 87.   0.  32.5  2.5]\n",
      " [41.5 36.  51.5 24.  94.  40.  30.  32.5  0.  36.5]\n",
      " [49.5 55.5 76.  39.5 35.5 43.  52.   2.5 36.5  0. ]]\n"
     ]
    }
   ],
   "source": [
    "import random\n",
    "import numpy as np\n",
    "\n",
    "# Número de ciudades\n",
    "num_cities = 10\n",
    "\n",
    "# Generar una matriz de distancias simétricas aleatorias entre ciudades\n",
    "def generate_distance_matrix(num_cities):\n",
    "    matrix = np.random.randint(1, 100, size=(num_cities, num_cities))\n",
    "    # Hacer la matriz simétrica (distancia de A a B es igual que de B a A)\n",
    "    matrix = (matrix + matrix.T) / 2\n",
    "    # Poner ceros en la diagonal (distancia de una ciudad consigo misma es 0)\n",
    "    np.fill_diagonal(matrix, 0)\n",
    "    return matrix\n",
    "\n",
    "distance_matrix = generate_distance_matrix(num_cities)\n",
    "print(\"Matriz de distancias (dataset simulado):\")\n",
    "print(distance_matrix)\n"
   ]
  },
  {
   "cell_type": "markdown",
   "metadata": {},
   "source": [
    "## 2. Definición del Problema y Funciones para el Algoritmo Genético\n",
    "\n",
    "En esta parte se define el problema de optimización como una minimización, ya que queremos minimizar la distancia total del recorrido. Luego, se define la función para crear un individuo (una posible solución) y la función de evaluación que calcula la distancia total de un recorrido dado.\n"
   ]
  },
  {
   "cell_type": "code",
   "execution_count": 4,
   "metadata": {},
   "outputs": [],
   "source": [
    "from deap import base, creator, tools, algorithms\n",
    "\n",
    "# Crea el tipo de problema. Usamos minimización (-1.0) ya que queremos minimizar la distancia total.\n",
    "creator.create(\"FitnessMin\", base.Fitness, weights=(-1.0,))\n",
    "creator.create(\"Individual\", list, fitness=creator.FitnessMin)\n",
    "\n",
    "# Función para crear un individuo (solución inicial)\n",
    "def create_individual(city_list):\n",
    "    return random.sample(city_list, len(city_list))\n",
    "\n",
    "# Función de evaluación: Calcula la distancia total de un recorrido\n",
    "def eval_tsp(individual, distance_matrix):\n",
    "    total_distance = 0\n",
    "    for i in range(len(individual) - 1):\n",
    "        total_distance += distance_matrix[individual[i]][individual[i+1]]\n",
    "    # Regresar al punto de partida\n",
    "    total_distance += distance_matrix[individual[-1]][individual[0]]\n",
    "    return total_distance,\n"
   ]
  },
  {
   "cell_type": "markdown",
   "metadata": {},
   "source": [
    "## 3. Configuración del Toolbox del Algoritmo Genético\n",
    "\n",
    "En esta sección configuramos el toolbox de DEAP. Esto incluye registrar los operadores genéticos como el cruce, la mutación y la selección. También se registra la función de evaluación que calcula la distancia de un recorrido.\n"
   ]
  },
  {
   "cell_type": "code",
   "execution_count": null,
   "metadata": {},
   "outputs": [],
   "source": [
    "# 3. Configurar el toolbox del algoritmo genético\n",
    "toolbox = base.Toolbox()\n",
    "\n",
    "# Definir el conjunto de ciudades (lista de índices de ciudades)\n",
    "city_list = list(range(len(distance_matrix)))\n",
    "\n",
    "# Registra las funciones en el toolbox\n",
    "toolbox.register(\"individual\", tools.initIterate, creator.Individual, lambda: create_individual(city_list))\n",
    "toolbox.register(\"population\", tools.initRepeat, list, toolbox.individual)\n",
    "\n",
    "# Operadores genéticos\n",
    "toolbox.register(\"mate\", tools.cxTwoPoint)\n",
    "toolbox.register(\"mutate\", tools.mutShuffleIndexes, indpb=0.05)\n",
    "toolbox.register(\"select\", tools.selTournament, tournsize=3)\n",
    "toolbox.register(\"evaluate\", eval_tsp, distance_matrix=distance_matrix)\n"
   ]
  },
  {
   "cell_type": "markdown",
   "metadata": {},
   "source": [
    "## 4. Ejecución del Algoritmo Genético\n",
    "\n",
    "En este paso, ejecutamos el algoritmo genético con una población inicial y un número definido de generaciones. Utilizamos una probabilidad de cruce y de mutación para evolucionar la población y encontrar la mejor solución.\n"
   ]
  },
  {
   "cell_type": "code",
   "execution_count": null,
   "metadata": {},
   "outputs": [],
   "source": [
    "# Parámetros del algoritmo\n",
    "population_size = 300\n",
    "num_generations = 400\n",
    "prob_crossover = 0.7  # Probabilidad de cruce\n",
    "prob_mutation = 0.2   # Probabilidad de mutación\n",
    "\n",
    "# Crear la población inicial\n",
    "population = toolbox.population(n=population_size)\n",
    "\n",
    "# Ejecutar el algoritmo genético\n",
    "best_solutions = algorithms.eaSimple(population, toolbox, cxpb=prob_crossover, mutpb=prob_mutation, \n",
    "                                     ngen=num_generations, verbose=True)\n"
   ]
  },
  {
   "cell_type": "markdown",
   "metadata": {},
   "source": [
    "## 5. Resultados\n",
    "\n",
    "Finalmente, mostramos los resultados obtenidos, como el mejor recorrido encontrado y la distancia total de ese recorrido.\n"
   ]
  },
  {
   "cell_type": "code",
   "execution_count": null,
   "metadata": {},
   "outputs": [],
   "source": [
    "# 5. Mostrar los resultados\n",
    "\n",
    "# Obtener el mejor individuo de la población\n",
    "best_individual = tools.selBest(population, k=1)[0]\n",
    "\n",
    "# Imprimir el mejor recorrido y la distancia total\n",
    "print(f\"Mejor recorrido encontrado: {best_individual}\")\n",
    "print(f\"Distancia total: {eval_tsp(best_individual, distance_matrix)[0]}\")\n"
   ]
  }
 ],
 "metadata": {
  "kernelspec": {
   "display_name": "Python 3",
   "language": "python",
   "name": "python3"
  },
  "language_info": {
   "codemirror_mode": {
    "name": "ipython",
    "version": 3
   },
   "file_extension": ".py",
   "mimetype": "text/x-python",
   "name": "python",
   "nbconvert_exporter": "python",
   "pygments_lexer": "ipython3",
   "version": "3.11.9"
  }
 },
 "nbformat": 4,
 "nbformat_minor": 2
}
