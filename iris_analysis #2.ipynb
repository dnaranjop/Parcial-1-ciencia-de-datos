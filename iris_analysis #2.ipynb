{
 "cells": [
  {
   "cell_type": "markdown",
   "metadata": {},
   "source": [
    "**Nombre**: Damian Danilo Naranjo Perilla\n",
    "**Materia**: Ciencia de Datos  \n",
    "**Salón**: TS7A\n",
    "# Análisis Descriptivo del Iris Dataset\n",
    "Este notebook realiza un análisis descriptivo de las características del conjunto de datos Iris, utilizando estadísticas como la media, mediana y desviación estándar.\n"
   ]
  },
  {
   "cell_type": "code",
   "execution_count": null,
   "metadata": {},
   "outputs": [],
   "source": [
    "import numpy as np\n",
    "from ucimlrepo import fetch_ucirepo\n",
    "\n",
    "# Obtener el conjunto de datos de Iris\n",
    "iris = fetch_ucirepo(id=53)\n",
    "\n",
    "# Datos (como DataFrames de pandas)\n",
    "X = iris.data.features\n",
    "y = iris.data.targets\n",
    "\n",
    "# Mostrar las primeras filas de los datos\n",
    "print(\"Características (X):\")\n",
    "print(X.head())\n",
    "\n",
    "print(\"\\nObjetivo (y):\")\n",
    "print(y.head())\n",
    "\n"
   ]
  },
  {
   "cell_type": "markdown",
   "metadata": {},
   "source": [
    "## Introducción al conjunto de datos\n",
    "El Iris Dataset contiene información sobre tres especies de flores y sus cuatro características: longitud y ancho del sépalo, y longitud y ancho del pétalo. El objetivo de este análisis es calcular las estadísticas descriptivas para comprender mejor las distribuciones de las características.\n"
   ]
  },
  {
   "cell_type": "code",
   "execution_count": null,
   "metadata": {},
   "outputs": [],
   "source": [
    "# Longitud del sépalo (Sepal Length)\n",
    "print(\"Media de la longitud del sépalo:\")\n",
    "print(X['sepal_length'].mean())  # Media\n",
    "print(\"Mediana de la longitud del sépalo:\")\n",
    "print(X['sepal_length'].median())  # Mediana\n",
    "print(\"Desviación estándar de la longitud del sépalo:\")\n",
    "print(X['sepal_length'].std())  # Desviación estándar\n",
    "\n"
   ]
  },
  {
   "cell_type": "markdown",
   "metadata": {},
   "source": [
    "### Longitud del sépalo\n",
    "La longitud promedio del sépalo es de 5.84 cm, con una mediana de 5.8 cm y una desviación estándar de 0.83 cm. Esto indica una distribución simétrica y una variabilidad moderada en la longitud del sépalo entre las diferentes especies.\n",
    "\n"
   ]
  },
  {
   "cell_type": "code",
   "execution_count": null,
   "metadata": {},
   "outputs": [],
   "source": [
    "# Ancho del sépalo (Sepal Width)\n",
    "print(\"\\nMedia del ancho del sépalo:\")\n",
    "print(X['sepal_width'].mean())  # Media\n",
    "print(\"Mediana del ancho del sépalo:\")\n",
    "print(X['sepal_width'].median())  # Mediana\n",
    "print(\"Desviación estándar del ancho del sépalo:\")\n",
    "print(X['sepal_width'].std())  # Desviación estándar\n"
   ]
  },
  {
   "cell_type": "markdown",
   "metadata": {},
   "source": [
    "### Ancho del sépalo\n",
    "El ancho promedio del sépalo es de 3.05 cm, con una mediana de 3.0 cm y una desviación estándar de 0.43 cm. Esto refleja una menor variabilidad en el ancho del sépalo en comparación con la longitud, lo que indica que esta característica es más uniforme entre las especies.\n"
   ]
  },
  {
   "cell_type": "code",
   "execution_count": null,
   "metadata": {},
   "outputs": [],
   "source": [
    "# Longitud del pétalo (Petal Length)\n",
    "print(\"\\nMedia de la longitud del pétalo:\")\n",
    "print(X['petal_length'].mean())  # Media\n",
    "print(\"Mediana de la longitud del pétalo:\")\n",
    "print(X['petal_length'].median())  # Mediana\n",
    "print(\"Desviación estándar de la longitud del pétalo:\")\n",
    "print(X['petal_length'].std())  # Desviación estándar\n"
   ]
  },
  {
   "cell_type": "markdown",
   "metadata": {},
   "source": [
    "### Longitud del pétalo\n",
    "La longitud promedio del pétalo es de 3.76 cm, mientras que la mediana es de 4.35 cm. La desviación estándar es de 1.76 cm, lo que indica una gran variabilidad entre las especies. Esta característica es fundamental para la diferenciación de las especies de Iris.\n"
   ]
  },
  {
   "cell_type": "code",
   "execution_count": null,
   "metadata": {},
   "outputs": [],
   "source": [
    "# Ancho del pétalo (Petal Width)\n",
    "print(\"\\nMedia del ancho del pétalo:\")\n",
    "print(X['petal_width'].mean())  # Media\n",
    "print(\"Mediana del ancho del pétalo:\")\n",
    "print(X['petal_width'].median())  # Mediana\n",
    "print(\"Desviación estándar del ancho del pétalo:\")\n",
    "print(X['petal_width'].std())  # Desviación estándar\n"
   ]
  },
  {
   "cell_type": "markdown",
   "metadata": {},
   "source": [
    "### Ancho del pétalo\n",
    "El ancho promedio del pétalo es de 1.20 cm, con una mediana de 1.3 cm y una desviación estándar de 0.76 cm. Esta característica también muestra variabilidad considerable, siendo útil para distinguir entre especies.\n"
   ]
  },
  {
   "cell_type": "code",
   "execution_count": null,
   "metadata": {},
   "outputs": [],
   "source": [
    "# Metadatos\n",
    "print(\"\\nMetadatos:\")\n",
    "print(iris.metadata)\n",
    "\n",
    "# Información de variables\n",
    "print(\"\\nInformación de variables:\")\n",
    "print(iris.variables)\n"
   ]
  },
  {
   "cell_type": "markdown",
   "metadata": {},
   "source": [
    "## Conclusión\n",
    "En resumen, el análisis descriptivo del Iris Dataset revela que las dimensiones del pétalo (longitud y ancho) son las características más variables y probablemente las más útiles para distinguir entre las tres especies de Iris. Por otro lado, las dimensiones del sépalo son más consistentes y uniformes, lo que sugiere que juegan un papel menos significativo en la diferenciación de especies.\n"
   ]
  }
 ],
 "metadata": {
  "kernelspec": {
   "display_name": "Python 3",
   "language": "python",
   "name": "python3"
  },
  "language_info": {
   "codemirror_mode": {
    "name": "ipython",
    "version": 3
   },
   "file_extension": ".py",
   "mimetype": "text/x-python",
   "name": "python",
   "nbconvert_exporter": "python",
   "pygments_lexer": "ipython3",
   "version": "3.12.6"
  }
 },
 "nbformat": 4,
 "nbformat_minor": 2
}
